{
  "cells": [
    {
      "cell_type": "markdown",
      "metadata": {
        "id": "view-in-github",
        "colab_type": "text"
      },
      "source": [
        "<a href=\"https://colab.research.google.com/github/libra0901/loss-analysis-cka/blob/main/tutorial.ipynb\" target=\"_parent\"><img src=\"https://colab.research.google.com/assets/colab-badge.svg\" alt=\"Open In Colab\"/></a>"
      ]
    },
    {
      "cell_type": "markdown",
      "metadata": {
        "id": "G9Je76l1IIyr"
      },
      "source": [
        "## Import the required libraries\n",
        "\n"
      ]
    },
    {
      "cell_type": "code",
      "execution_count": 1,
      "metadata": {
        "id": "udnSGSBVDKBz"
      },
      "outputs": [],
      "source": [
        "import torch\n",
        "from torchvision import datasets, models, transforms\n",
        "from torch.utils.data import DataLoader\n",
        "import torch.optim as  optim\n",
        "import numpy as np\n",
        "import pandas as pd\n",
        "import matplotlib.pyplot as plt\n",
        "import time\n",
        "from tqdm import tqdm\n",
        "import torch.nn.functional as F\n",
        "import torch.nn as nn\n"
      ]
    },
    {
      "cell_type": "markdown",
      "metadata": {
        "id": "fd9CL1YmLhZr"
      },
      "source": [
        "## Changing the device to execute on - either CPU or CUDA\n"
      ]
    },
    {
      "cell_type": "code",
      "execution_count": 2,
      "metadata": {
        "colab": {
          "base_uri": "https://localhost:8080/"
        },
        "id": "FBnl3NZLIG-w",
        "outputId": "65e5d0bc-d3d0-4274-f968-26dbbaba716e"
      },
      "outputs": [
        {
          "output_type": "stream",
          "name": "stdout",
          "text": [
            "cuda\n"
          ]
        }
      ],
      "source": [
        "device = \"cuda\" if torch.cuda.is_available() else \"cpu\"\n",
        "print(device)"
      ]
    },
    {
      "cell_type": "markdown",
      "metadata": {
        "id": "grqg30JXZa1E"
      },
      "source": [
        "### Loss Functions"
      ]
    },
    {
      "cell_type": "code",
      "execution_count": 3,
      "metadata": {
        "id": "ec1bls3ZZalS"
      },
      "outputs": [],
      "source": [
        "class LossFunctions:\n",
        "    def __init__(self, num_classes):\n",
        "        super(LossFunctions, self).__init__()\n",
        "        self.num_classes = int(num_classes)\n",
        "    \n",
        "    # Log (cross-entropy) Loss\n",
        "    def cross_entropy_loss(self, x, y):\n",
        "        loss = F.cross_entropy(x, y)\n",
        "        return loss\n",
        "\n",
        "    # Sum of sqaures\n",
        "    def sos_loss(self, x, y):\n",
        "        ones = torch.sparse.torch.eye(self.num_classes).to(device)\n",
        "        y = ones.index_select(0, y)\n",
        "        m = nn.Softmax(dim=1)\n",
        "        criterion = nn.MSELoss(reduction='sum')\n",
        "        loss = criterion(m(x), y)\n",
        "        return loss\n",
        "    \n",
        "    # Mean Sqaured loss - L2 loss \n",
        "    def mse_loss(self, x, y):\n",
        "        ones = torch.sparse.torch.eye(self.num_classes).to(device)\n",
        "        y = ones.index_select(0, y)\n",
        "        m = nn.Softmax(dim=1)\n",
        "        criterion = nn.MSELoss(reduction='mean')\n",
        "        loss = criterion(m(x), y)\n",
        "        return loss\n",
        "    \n",
        "    # Negative log likelihood = logarithmic softmax\n",
        "    def neg_loglike_loss(self, x, y):\n",
        "        m = nn.LogSoftmax(dim=1)\n",
        "        nll_loss = nn.NLLLoss()\n",
        "        loss = nll_loss(m(x), y)\n",
        "        return loss\n",
        "    \n",
        "    # Expectation Loss - L1 loss - Mean absoulte error\n",
        "    def expectation_loss(self, x, y):\n",
        "        ones = torch.sparse.torch.eye(self.num_classes).to(device)\n",
        "        y = ones.index_select(0, y)\n",
        "        m = nn.Softmax(dim=1)\n",
        "        loss = F.l1_loss(m(x), y)\n",
        "        return loss\n",
        "    \n",
        "    def bce_loss(self, x, y):\n",
        "        ones = torch.sparse.torch.eye(self.num_classes).to(device)\n",
        "        y = ones.index_select(0, y)\n",
        "        loss = F.binary_cross_entropy_with_logits(x, y)\n",
        "        return loss\n",
        "\n"
      ]
    },
    {
      "cell_type": "markdown",
      "metadata": {
        "id": "Mk2BX2b7QkNS"
      },
      "source": [
        "## Assign Batch Size and required transformations for your data"
      ]
    },
    {
      "cell_type": "code",
      "execution_count": 4,
      "metadata": {
        "id": "DRJL4LvyIHC_"
      },
      "outputs": [],
      "source": [
        "batch_size = 256\n",
        "\n",
        "traindata_transforms = transforms.Compose([\n",
        "                        transforms.Resize((32,32)),\n",
        "                        transforms.ToTensor(),\n",
        "                        transforms.Normalize([0.485, 0.456, 0.406], [0.229, 0.224, 0.225])])\n",
        "\n",
        "testdata_transforms = transforms.Compose([\n",
        "                        transforms.Resize((32,32)),  \n",
        "                        transforms.ToTensor(),\n",
        "                        transforms.Normalize([0.485, 0.456, 0.406], [0.229, 0.224, 0.225])])\n"
      ]
    },
    {
      "cell_type": "markdown",
      "metadata": {
        "id": "zgoZrwy8Quml"
      },
      "source": [
        "## Dataloading"
      ]
    },
    {
      "cell_type": "code",
      "execution_count": 5,
      "metadata": {
        "colab": {
          "base_uri": "https://localhost:8080/",
          "height": 0,
          "referenced_widgets": [
            "d9025bafbc2447c1a5cf6538322797ae",
            "1a404850990f4be0b725ef82bc10ce55",
            "2fefb08bbd0343378ac58354201dce49",
            "3a95b9200fec47e7b62c895833832620",
            "4b645f6e86864de1845d90106f2d3e5c",
            "30301098ee77436c9163b646d05cc1a8",
            "492dae4cb4ff4231a782c29e85918ce7",
            "e17ca235a11d4442b1a81aba060183e0",
            "3319f472fb754c82a53430dc8c03d7b9",
            "d66d47f79cf346f29873074dd4d5ad87",
            "b96ccea15af64a129e68b070c493945f"
          ]
        },
        "id": "wVbof9J7Qd_N",
        "outputId": "70a65ae4-ab46-4ae0-d690-6b04e883a4b9"
      },
      "outputs": [
        {
          "output_type": "stream",
          "name": "stdout",
          "text": [
            "Downloading https://www.cs.toronto.edu/~kriz/cifar-10-python.tar.gz to \\PATH/cifar-10-python.tar.gz\n"
          ]
        },
        {
          "output_type": "display_data",
          "data": {
            "text/plain": [
              "  0%|          | 0/170498071 [00:00<?, ?it/s]"
            ],
            "application/vnd.jupyter.widget-view+json": {
              "version_major": 2,
              "version_minor": 0,
              "model_id": "d9025bafbc2447c1a5cf6538322797ae"
            }
          },
          "metadata": {}
        },
        {
          "output_type": "stream",
          "name": "stdout",
          "text": [
            "Extracting \\PATH/cifar-10-python.tar.gz to \\PATH\n",
            "Files already downloaded and verified\n"
          ]
        }
      ],
      "source": [
        "traindata = datasets.CIFAR10(root=\"\\PATH\", train=True, transform=traindata_transforms, download=True) \n",
        "testdata = datasets.CIFAR10(root=\"\\PATH\", train=False, transform=traindata_transforms, download=True)\n",
        "\n",
        "train_dataloader = DataLoader(traindata, batch_size, shuffle=True) \n",
        "test_dataloader = DataLoader(testdata, batch_size, shuffle=False)"
      ]
    },
    {
      "cell_type": "markdown",
      "metadata": {
        "id": "ghGzRt-yYbmF"
      },
      "source": [
        "## Train Function"
      ]
    },
    {
      "cell_type": "code",
      "execution_count": 6,
      "metadata": {
        "id": "yHhCfuLIIHPZ"
      },
      "outputs": [],
      "source": [
        "class Train:\n",
        "    def __init__(self,\n",
        "                 optimizer,\n",
        "                 loss,\n",
        "                 epochs:int, \n",
        "                 modelname:str,\n",
        "                 dataset:str):\n",
        "        \n",
        "        super(Train, self).__init__()\n",
        "        self.optimizer = optimizer\n",
        "        self.optimizer_name = str(optimizer)\n",
        "        self.loss = loss\n",
        "        self.epochs = epochs\n",
        "        self.modelname = modelname\n",
        "    \n",
        "    def model_(self, modelname:str, num_classes:int, dataset:str):\n",
        "        if modelname == 'resnet50':\n",
        "            model = models.resnet50(pretrained=True).to(device)\n",
        "            model.fc = nn.Sequential(\n",
        "                        nn.Linear(2048, 1024, bias=True),\n",
        "                        nn.Dropout(),\n",
        "                        nn.Linear(1024, 512, bias=True),\n",
        "                        nn.Dropout(),\n",
        "                        nn.Linear(512, num_classes, bias=True)\n",
        "                        ).to(device)\n",
        "            return model\n",
        "        elif modelname =='resnet18' and dataset=='\\mnist':\n",
        "            model = models.resnet18(pretrained=False).to(device)\n",
        "            model.conv1 = nn.Conv2d(1, 64, kernel_size=(7, 7), stride=(2, 2), padding=(3, 3), bias=False).to(device)\n",
        "            model.fc = nn.Linear(512, num_classes, bias=True).to(device)\n",
        "            return model\n",
        "        elif modelname == 'resnet18':\n",
        "            model = models.resnet18(pretrained=False).to(device)\n",
        "            model.fc = nn.Linear(512, num_classes, bias=True).to(device)\n",
        "            return model\n",
        "        else:\n",
        "            print('ERROR_model_or_dataset_is_not_found')\n",
        "      \n",
        "    def top1_accuracy(self, outputs, labels):\n",
        "        _, preds = torch.max(outputs, dim=1)\n",
        "        acc = torch.tensor(torch.sum(preds == labels).item() / len(preds))\n",
        "        return acc\n",
        "    \n",
        "    @torch.no_grad()\n",
        "    def test(self, model, test_dl, dataset):\n",
        "        model.eval()\n",
        "        for batch in test_dl:\n",
        "            inputs, labels = batch\n",
        "            inputs = inputs.to(device)\n",
        "            labels = labels.to(device)\n",
        "            outputs = model(inputs)\n",
        "            loss = self.loss(outputs, labels)\n",
        "            acc = self.top1_accuracy(outputs, labels)\n",
        "        return loss, acc\n",
        "    \n",
        "    # Training Loop \n",
        "    def train(self, train_dl, test_dl, num_classes, filename, dataset):\n",
        "        history = []\n",
        "        since = time.time()\n",
        "        model = self.model_(modelname=self.modelname,\n",
        "                            num_classes = int(num_classes),\n",
        "                            dataset = dataset)\n",
        "        if self.optimizer_name == 'SGD':\n",
        "            optimizer = self.optimizer(model.parameters(), lr=0.0001, momentum=0.93)\n",
        "        else:\n",
        "            optimizer = self.optimizer(model.parameters(), lr=0.001)\n",
        "        \n",
        "        for epoch in range(self.epochs):\n",
        "            model.train()\n",
        "            train_loss = []\n",
        "            train_acc = []\n",
        "            test_loss = []\n",
        "            test_acc = []\n",
        "            result = {}\n",
        "            with tqdm(train_dl, unit=\"batch\") as loop:\n",
        "              for batch in loop:\n",
        "                  inputs, labels = batch\n",
        "                  inputs = inputs.to(device)\n",
        "                  labels = labels.to(device)\n",
        "                  outputs = model(inputs)\n",
        "                  loss = self.loss(outputs, labels)\n",
        "                  acc = self.top1_accuracy(outputs, labels)\n",
        "                  train_acc.append(acc.cpu().detach().numpy())\n",
        "                  train_loss.append(loss.cpu().detach().numpy())\n",
        "                  loop.set_description(f\"Epoch [{epoch}/{self.epochs}]\")\n",
        "                  loop.set_postfix(train_loss=np.average(train_loss),train_acc=np.average(train_acc))\n",
        "                  loss.backward()\n",
        "                  optimizer.step()\n",
        "                  optimizer.zero_grad()\n",
        "              \n",
        "              test_losses,test_accu = self.test(model, test_dl, dataset)\n",
        "              test_loss.append(test_losses.cpu().detach().numpy())\n",
        "              test_acc.append(test_accu.cpu().detach().numpy())       \n",
        "              result['train_loss'] = np.average(train_loss)\n",
        "              result['train_acc'] = np.average(train_acc)\n",
        "              result['test_loss'] = np.average(test_loss)\n",
        "              result['test_acc'] = np.average(test_acc)\n",
        "              print('\\nEpoch',epoch,result)\n",
        "              history.append(result)\n",
        "            \n",
        "        time_elapsed = time.time() - since\n",
        "        print('Training Completed in {:.0f} min {:.0f} sec'.format(time_elapsed//60, time_elapsed%60))\n",
        "        return history"
      ]
    },
    {
      "cell_type": "markdown",
      "metadata": {
        "id": "u6KazuyyYkLS"
      },
      "source": [
        "## Assign:<br/>\n",
        "-----------------------------------------------------------------------<br/>\n",
        "Number of classes (w.r.t dataset) = n : int <br/>\n",
        "-----------------------------------------------------------------------<br/>\n",
        "Loss Function = (from set of declared 6 loss fucntions, assign one)<br/>\n",
        "1.   L<sub>1</sub> = <br/>\n",
        "2.   L<sub>2</sub> = <br/>\n",
        "3.   Softmax Cross Entropy = <br/>\n",
        "4.   Binary Cross Entropy = <br/>\n",
        "5.   Mean-Squared-Error = <br/>\n",
        "6.   Sum-of-Sqaures = <br/>\n",
        "-----------------------------------------------------------------------<br/>\n",
        "## Execute the model"
      ]
    },
    {
      "cell_type": "code",
      "execution_count": 7,
      "metadata": {
        "colab": {
          "base_uri": "https://localhost:8080/"
        },
        "id": "iM3S_K35IHVS",
        "outputId": "4c994f83-653b-46ed-86ab-7d5b10c3aea1"
      },
      "outputs": [
        {
          "output_type": "stream",
          "name": "stderr",
          "text": [
            "Epoch [0/15]: 100%|██████████| 196/196 [00:27<00:00,  7.06batch/s, train_acc=0.505, train_loss=1.38]\n"
          ]
        },
        {
          "output_type": "stream",
          "name": "stdout",
          "text": [
            "\n",
            "Epoch 0 {'train_loss': 1.3775111, 'train_acc': 0.5046157, 'test_loss': 1.0798844, 'test_acc': 0.5625}\n"
          ]
        },
        {
          "output_type": "stream",
          "name": "stderr",
          "text": [
            "Epoch [1/15]: 100%|██████████| 196/196 [00:28<00:00,  7.00batch/s, train_acc=0.655, train_loss=0.973]\n"
          ]
        },
        {
          "output_type": "stream",
          "name": "stdout",
          "text": [
            "\n",
            "Epoch 1 {'train_loss': 0.9733933, 'train_acc': 0.65464765, 'test_loss': 1.033646, 'test_acc': 0.625}\n"
          ]
        },
        {
          "output_type": "stream",
          "name": "stderr",
          "text": [
            "Epoch [2/15]: 100%|██████████| 196/196 [00:27<00:00,  7.09batch/s, train_acc=0.721, train_loss=0.793]\n"
          ]
        },
        {
          "output_type": "stream",
          "name": "stdout",
          "text": [
            "\n",
            "Epoch 2 {'train_loss': 0.7927615, 'train_acc': 0.7207351, 'test_loss': 0.4255637, 'test_acc': 0.875}\n"
          ]
        },
        {
          "output_type": "stream",
          "name": "stderr",
          "text": [
            "Epoch [3/15]: 100%|██████████| 196/196 [00:27<00:00,  7.09batch/s, train_acc=0.767, train_loss=0.662]\n"
          ]
        },
        {
          "output_type": "stream",
          "name": "stdout",
          "text": [
            "\n",
            "Epoch 3 {'train_loss': 0.6617474, 'train_acc': 0.7674266, 'test_loss': 0.34082595, 'test_acc': 0.875}\n"
          ]
        },
        {
          "output_type": "stream",
          "name": "stderr",
          "text": [
            "Epoch [4/15]: 100%|██████████| 196/196 [00:27<00:00,  7.13batch/s, train_acc=0.809, train_loss=0.546]\n"
          ]
        },
        {
          "output_type": "stream",
          "name": "stdout",
          "text": [
            "\n",
            "Epoch 4 {'train_loss': 0.5463242, 'train_acc': 0.80891263, 'test_loss': 0.6106515, 'test_acc': 0.75}\n"
          ]
        },
        {
          "output_type": "stream",
          "name": "stderr",
          "text": [
            "Epoch [5/15]: 100%|██████████| 196/196 [00:27<00:00,  7.12batch/s, train_acc=0.841, train_loss=0.454]\n"
          ]
        },
        {
          "output_type": "stream",
          "name": "stdout",
          "text": [
            "\n",
            "Epoch 5 {'train_loss': 0.4536835, 'train_acc': 0.8408761, 'test_loss': 0.45053098, 'test_acc': 0.8125}\n"
          ]
        },
        {
          "output_type": "stream",
          "name": "stderr",
          "text": [
            "Epoch [6/15]: 100%|██████████| 196/196 [00:27<00:00,  7.13batch/s, train_acc=0.866, train_loss=0.381]\n"
          ]
        },
        {
          "output_type": "stream",
          "name": "stdout",
          "text": [
            "\n",
            "Epoch 6 {'train_loss': 0.3811563, 'train_acc': 0.86615115, 'test_loss': 0.45118195, 'test_acc': 0.75}\n"
          ]
        },
        {
          "output_type": "stream",
          "name": "stderr",
          "text": [
            "Epoch [7/15]: 100%|██████████| 196/196 [00:27<00:00,  7.11batch/s, train_acc=0.895, train_loss=0.3]\n"
          ]
        },
        {
          "output_type": "stream",
          "name": "stdout",
          "text": [
            "\n",
            "Epoch 7 {'train_loss': 0.30007794, 'train_acc': 0.89517295, 'test_loss': 0.6390468, 'test_acc': 0.6875}\n"
          ]
        },
        {
          "output_type": "stream",
          "name": "stderr",
          "text": [
            "Epoch [8/15]: 100%|██████████| 196/196 [00:27<00:00,  7.13batch/s, train_acc=0.914, train_loss=0.243]\n"
          ]
        },
        {
          "output_type": "stream",
          "name": "stdout",
          "text": [
            "\n",
            "Epoch 8 {'train_loss': 0.24327156, 'train_acc': 0.9141024, 'test_loss': 1.2660936, 'test_acc': 0.625}\n"
          ]
        },
        {
          "output_type": "stream",
          "name": "stderr",
          "text": [
            "Epoch [9/15]: 100%|██████████| 196/196 [00:27<00:00,  7.13batch/s, train_acc=0.929, train_loss=0.2]\n"
          ]
        },
        {
          "output_type": "stream",
          "name": "stdout",
          "text": [
            "\n",
            "Epoch 9 {'train_loss': 0.19998111, 'train_acc': 0.9286113, 'test_loss': 0.72094035, 'test_acc': 0.8125}\n"
          ]
        },
        {
          "output_type": "stream",
          "name": "stderr",
          "text": [
            "Epoch [10/15]: 100%|██████████| 196/196 [00:27<00:00,  7.10batch/s, train_acc=0.943, train_loss=0.163]\n"
          ]
        },
        {
          "output_type": "stream",
          "name": "stdout",
          "text": [
            "\n",
            "Epoch 10 {'train_loss': 0.16342404, 'train_acc': 0.94333947, 'test_loss': 0.41008183, 'test_acc': 0.875}\n"
          ]
        },
        {
          "output_type": "stream",
          "name": "stderr",
          "text": [
            "Epoch [11/15]: 100%|██████████| 196/196 [00:27<00:00,  7.09batch/s, train_acc=0.952, train_loss=0.137]\n"
          ]
        },
        {
          "output_type": "stream",
          "name": "stdout",
          "text": [
            "\n",
            "Epoch 11 {'train_loss': 0.13715476, 'train_acc': 0.9522122, 'test_loss': 0.77681756, 'test_acc': 0.8125}\n"
          ]
        },
        {
          "output_type": "stream",
          "name": "stderr",
          "text": [
            "Epoch [12/15]: 100%|██████████| 196/196 [00:27<00:00,  7.09batch/s, train_acc=0.957, train_loss=0.122]\n"
          ]
        },
        {
          "output_type": "stream",
          "name": "stdout",
          "text": [
            "\n",
            "Epoch 12 {'train_loss': 0.122180365, 'train_acc': 0.9572744, 'test_loss': 0.7432883, 'test_acc': 0.75}\n"
          ]
        },
        {
          "output_type": "stream",
          "name": "stderr",
          "text": [
            "Epoch [13/15]: 100%|██████████| 196/196 [00:27<00:00,  7.10batch/s, train_acc=0.966, train_loss=0.0959]\n"
          ]
        },
        {
          "output_type": "stream",
          "name": "stdout",
          "text": [
            "\n",
            "Epoch 13 {'train_loss': 0.09590746, 'train_acc': 0.9661153, 'test_loss': 1.1599112, 'test_acc': 0.75}\n"
          ]
        },
        {
          "output_type": "stream",
          "name": "stderr",
          "text": [
            "Epoch [14/15]: 100%|██████████| 196/196 [00:27<00:00,  7.14batch/s, train_acc=0.966, train_loss=0.0967]\n"
          ]
        },
        {
          "output_type": "stream",
          "name": "stdout",
          "text": [
            "\n",
            "Epoch 14 {'train_loss': 0.09666071, 'train_acc': 0.96574855, 'test_loss': 1.2463706, 'test_acc': 0.6875}\n",
            "Training Completed in 8 min 11 sec\n"
          ]
        }
      ],
      "source": [
        "num_classes = 10\n",
        "lf = LossFunctions(num_classes)\n",
        "loss = lf.cross_entropy_loss\n",
        "batch_size = 512\n",
        "optimizer = optim.Adam\n",
        "epochs = 15\n",
        "modelname = 'resnet18'\n",
        "dataset = '\\cifar10'\n",
        "\n",
        "# Declaring Loss Function\n",
        "l = LossFunctions(num_classes)\n",
        "# Training \n",
        "t = Train(optimizer = optimizer,\n",
        "          loss = loss,\n",
        "          epochs = epochs,\n",
        "          modelname = modelname,\n",
        "          dataset = dataset,\n",
        "          )\n",
        "filename = dataset[1:] + modelname\n",
        "\n",
        "history = t.train(\n",
        "            train_dl = train_dataloader,\n",
        "            test_dl = test_dataloader,\n",
        "            num_classes = num_classes,\n",
        "            filename = filename,\n",
        "            dataset = dataset\n",
        "            )"
      ]
    },
    {
      "cell_type": "code",
      "execution_count": 7,
      "metadata": {
        "id": "R5SEKIQoZtyA"
      },
      "outputs": [],
      "source": [
        ""
      ]
    },
    {
      "cell_type": "code",
      "execution_count": 7,
      "metadata": {
        "id": "x_H65_KrZuLk"
      },
      "outputs": [],
      "source": [
        ""
      ]
    },
    {
      "cell_type": "markdown",
      "metadata": {
        "id": "3HUPU00zZJcU"
      },
      "source": [
        "## Visualize the Model's **CKA**\n",
        "\n",
        "\n"
      ]
    },
    {
      "cell_type": "code",
      "execution_count": 7,
      "metadata": {
        "id": "6RKKUUskIHXs"
      },
      "outputs": [],
      "source": [
        ""
      ]
    },
    {
      "cell_type": "code",
      "execution_count": 7,
      "metadata": {
        "id": "UEolIefSIHZ7"
      },
      "outputs": [],
      "source": [
        ""
      ]
    },
    {
      "cell_type": "code",
      "execution_count": 7,
      "metadata": {
        "id": "fbe4AwDOIHcR"
      },
      "outputs": [],
      "source": [
        ""
      ]
    }
  ],
  "metadata": {
    "accelerator": "GPU",
    "colab": {
      "collapsed_sections": [
        "Mk2BX2b7QkNS"
      ],
      "name": "tutorial.ipynb",
      "provenance": [],
      "authorship_tag": "ABX9TyOLnXv3EY54VQwHhzvxW5Al",
      "include_colab_link": true
    },
    "kernelspec": {
      "display_name": "Python 3",
      "name": "python3"
    },
    "language_info": {
      "name": "python"
    },
    "widgets": {
      "application/vnd.jupyter.widget-state+json": {
        "d9025bafbc2447c1a5cf6538322797ae": {
          "model_module": "@jupyter-widgets/controls",
          "model_name": "HBoxModel",
          "model_module_version": "1.5.0",
          "state": {
            "_dom_classes": [],
            "_model_module": "@jupyter-widgets/controls",
            "_model_module_version": "1.5.0",
            "_model_name": "HBoxModel",
            "_view_count": null,
            "_view_module": "@jupyter-widgets/controls",
            "_view_module_version": "1.5.0",
            "_view_name": "HBoxView",
            "box_style": "",
            "children": [
              "IPY_MODEL_1a404850990f4be0b725ef82bc10ce55",
              "IPY_MODEL_2fefb08bbd0343378ac58354201dce49",
              "IPY_MODEL_3a95b9200fec47e7b62c895833832620"
            ],
            "layout": "IPY_MODEL_4b645f6e86864de1845d90106f2d3e5c"
          }
        },
        "1a404850990f4be0b725ef82bc10ce55": {
          "model_module": "@jupyter-widgets/controls",
          "model_name": "HTMLModel",
          "model_module_version": "1.5.0",
          "state": {
            "_dom_classes": [],
            "_model_module": "@jupyter-widgets/controls",
            "_model_module_version": "1.5.0",
            "_model_name": "HTMLModel",
            "_view_count": null,
            "_view_module": "@jupyter-widgets/controls",
            "_view_module_version": "1.5.0",
            "_view_name": "HTMLView",
            "description": "",
            "description_tooltip": null,
            "layout": "IPY_MODEL_30301098ee77436c9163b646d05cc1a8",
            "placeholder": "​",
            "style": "IPY_MODEL_492dae4cb4ff4231a782c29e85918ce7",
            "value": ""
          }
        },
        "2fefb08bbd0343378ac58354201dce49": {
          "model_module": "@jupyter-widgets/controls",
          "model_name": "FloatProgressModel",
          "model_module_version": "1.5.0",
          "state": {
            "_dom_classes": [],
            "_model_module": "@jupyter-widgets/controls",
            "_model_module_version": "1.5.0",
            "_model_name": "FloatProgressModel",
            "_view_count": null,
            "_view_module": "@jupyter-widgets/controls",
            "_view_module_version": "1.5.0",
            "_view_name": "ProgressView",
            "bar_style": "success",
            "description": "",
            "description_tooltip": null,
            "layout": "IPY_MODEL_e17ca235a11d4442b1a81aba060183e0",
            "max": 170498071,
            "min": 0,
            "orientation": "horizontal",
            "style": "IPY_MODEL_3319f472fb754c82a53430dc8c03d7b9",
            "value": 170498071
          }
        },
        "3a95b9200fec47e7b62c895833832620": {
          "model_module": "@jupyter-widgets/controls",
          "model_name": "HTMLModel",
          "model_module_version": "1.5.0",
          "state": {
            "_dom_classes": [],
            "_model_module": "@jupyter-widgets/controls",
            "_model_module_version": "1.5.0",
            "_model_name": "HTMLModel",
            "_view_count": null,
            "_view_module": "@jupyter-widgets/controls",
            "_view_module_version": "1.5.0",
            "_view_name": "HTMLView",
            "description": "",
            "description_tooltip": null,
            "layout": "IPY_MODEL_d66d47f79cf346f29873074dd4d5ad87",
            "placeholder": "​",
            "style": "IPY_MODEL_b96ccea15af64a129e68b070c493945f",
            "value": " 170499072/? [00:03&lt;00:00, 29371236.50it/s]"
          }
        },
        "4b645f6e86864de1845d90106f2d3e5c": {
          "model_module": "@jupyter-widgets/base",
          "model_name": "LayoutModel",
          "model_module_version": "1.2.0",
          "state": {
            "_model_module": "@jupyter-widgets/base",
            "_model_module_version": "1.2.0",
            "_model_name": "LayoutModel",
            "_view_count": null,
            "_view_module": "@jupyter-widgets/base",
            "_view_module_version": "1.2.0",
            "_view_name": "LayoutView",
            "align_content": null,
            "align_items": null,
            "align_self": null,
            "border": null,
            "bottom": null,
            "display": null,
            "flex": null,
            "flex_flow": null,
            "grid_area": null,
            "grid_auto_columns": null,
            "grid_auto_flow": null,
            "grid_auto_rows": null,
            "grid_column": null,
            "grid_gap": null,
            "grid_row": null,
            "grid_template_areas": null,
            "grid_template_columns": null,
            "grid_template_rows": null,
            "height": null,
            "justify_content": null,
            "justify_items": null,
            "left": null,
            "margin": null,
            "max_height": null,
            "max_width": null,
            "min_height": null,
            "min_width": null,
            "object_fit": null,
            "object_position": null,
            "order": null,
            "overflow": null,
            "overflow_x": null,
            "overflow_y": null,
            "padding": null,
            "right": null,
            "top": null,
            "visibility": null,
            "width": null
          }
        },
        "30301098ee77436c9163b646d05cc1a8": {
          "model_module": "@jupyter-widgets/base",
          "model_name": "LayoutModel",
          "model_module_version": "1.2.0",
          "state": {
            "_model_module": "@jupyter-widgets/base",
            "_model_module_version": "1.2.0",
            "_model_name": "LayoutModel",
            "_view_count": null,
            "_view_module": "@jupyter-widgets/base",
            "_view_module_version": "1.2.0",
            "_view_name": "LayoutView",
            "align_content": null,
            "align_items": null,
            "align_self": null,
            "border": null,
            "bottom": null,
            "display": null,
            "flex": null,
            "flex_flow": null,
            "grid_area": null,
            "grid_auto_columns": null,
            "grid_auto_flow": null,
            "grid_auto_rows": null,
            "grid_column": null,
            "grid_gap": null,
            "grid_row": null,
            "grid_template_areas": null,
            "grid_template_columns": null,
            "grid_template_rows": null,
            "height": null,
            "justify_content": null,
            "justify_items": null,
            "left": null,
            "margin": null,
            "max_height": null,
            "max_width": null,
            "min_height": null,
            "min_width": null,
            "object_fit": null,
            "object_position": null,
            "order": null,
            "overflow": null,
            "overflow_x": null,
            "overflow_y": null,
            "padding": null,
            "right": null,
            "top": null,
            "visibility": null,
            "width": null
          }
        },
        "492dae4cb4ff4231a782c29e85918ce7": {
          "model_module": "@jupyter-widgets/controls",
          "model_name": "DescriptionStyleModel",
          "model_module_version": "1.5.0",
          "state": {
            "_model_module": "@jupyter-widgets/controls",
            "_model_module_version": "1.5.0",
            "_model_name": "DescriptionStyleModel",
            "_view_count": null,
            "_view_module": "@jupyter-widgets/base",
            "_view_module_version": "1.2.0",
            "_view_name": "StyleView",
            "description_width": ""
          }
        },
        "e17ca235a11d4442b1a81aba060183e0": {
          "model_module": "@jupyter-widgets/base",
          "model_name": "LayoutModel",
          "model_module_version": "1.2.0",
          "state": {
            "_model_module": "@jupyter-widgets/base",
            "_model_module_version": "1.2.0",
            "_model_name": "LayoutModel",
            "_view_count": null,
            "_view_module": "@jupyter-widgets/base",
            "_view_module_version": "1.2.0",
            "_view_name": "LayoutView",
            "align_content": null,
            "align_items": null,
            "align_self": null,
            "border": null,
            "bottom": null,
            "display": null,
            "flex": null,
            "flex_flow": null,
            "grid_area": null,
            "grid_auto_columns": null,
            "grid_auto_flow": null,
            "grid_auto_rows": null,
            "grid_column": null,
            "grid_gap": null,
            "grid_row": null,
            "grid_template_areas": null,
            "grid_template_columns": null,
            "grid_template_rows": null,
            "height": null,
            "justify_content": null,
            "justify_items": null,
            "left": null,
            "margin": null,
            "max_height": null,
            "max_width": null,
            "min_height": null,
            "min_width": null,
            "object_fit": null,
            "object_position": null,
            "order": null,
            "overflow": null,
            "overflow_x": null,
            "overflow_y": null,
            "padding": null,
            "right": null,
            "top": null,
            "visibility": null,
            "width": null
          }
        },
        "3319f472fb754c82a53430dc8c03d7b9": {
          "model_module": "@jupyter-widgets/controls",
          "model_name": "ProgressStyleModel",
          "model_module_version": "1.5.0",
          "state": {
            "_model_module": "@jupyter-widgets/controls",
            "_model_module_version": "1.5.0",
            "_model_name": "ProgressStyleModel",
            "_view_count": null,
            "_view_module": "@jupyter-widgets/base",
            "_view_module_version": "1.2.0",
            "_view_name": "StyleView",
            "bar_color": null,
            "description_width": ""
          }
        },
        "d66d47f79cf346f29873074dd4d5ad87": {
          "model_module": "@jupyter-widgets/base",
          "model_name": "LayoutModel",
          "model_module_version": "1.2.0",
          "state": {
            "_model_module": "@jupyter-widgets/base",
            "_model_module_version": "1.2.0",
            "_model_name": "LayoutModel",
            "_view_count": null,
            "_view_module": "@jupyter-widgets/base",
            "_view_module_version": "1.2.0",
            "_view_name": "LayoutView",
            "align_content": null,
            "align_items": null,
            "align_self": null,
            "border": null,
            "bottom": null,
            "display": null,
            "flex": null,
            "flex_flow": null,
            "grid_area": null,
            "grid_auto_columns": null,
            "grid_auto_flow": null,
            "grid_auto_rows": null,
            "grid_column": null,
            "grid_gap": null,
            "grid_row": null,
            "grid_template_areas": null,
            "grid_template_columns": null,
            "grid_template_rows": null,
            "height": null,
            "justify_content": null,
            "justify_items": null,
            "left": null,
            "margin": null,
            "max_height": null,
            "max_width": null,
            "min_height": null,
            "min_width": null,
            "object_fit": null,
            "object_position": null,
            "order": null,
            "overflow": null,
            "overflow_x": null,
            "overflow_y": null,
            "padding": null,
            "right": null,
            "top": null,
            "visibility": null,
            "width": null
          }
        },
        "b96ccea15af64a129e68b070c493945f": {
          "model_module": "@jupyter-widgets/controls",
          "model_name": "DescriptionStyleModel",
          "model_module_version": "1.5.0",
          "state": {
            "_model_module": "@jupyter-widgets/controls",
            "_model_module_version": "1.5.0",
            "_model_name": "DescriptionStyleModel",
            "_view_count": null,
            "_view_module": "@jupyter-widgets/base",
            "_view_module_version": "1.2.0",
            "_view_name": "StyleView",
            "description_width": ""
          }
        }
      }
    }
  },
  "nbformat": 4,
  "nbformat_minor": 0
}