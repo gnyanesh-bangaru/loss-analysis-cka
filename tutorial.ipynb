{
  "cells": [
    {
      "cell_type": "markdown",
      "metadata": {
        "id": "view-in-github",
        "colab_type": "text"
      },
      "source": [
        "<a href=\"https://colab.research.google.com/github/libra0901/loss-analysis-cka/blob/main/tutorial.ipynb\" target=\"_parent\"><img src=\"https://colab.research.google.com/assets/colab-badge.svg\" alt=\"Open In Colab\"/></a>"
      ]
    },
    {
      "cell_type": "markdown",
      "source": [
        "# In order to execute these set of loss functions on mutliple models, do the following:\n",
        "#### **Step-1**: *Download **lossfunctions.py** and **train.py** files and add them to your google drive* \n",
        "\n",
        "#### **Step-2**: *Mount your drive to the Colab and insert the path via sys library*\n",
        "#### **Step-3**: *Now, import the files and use as instructed, accordingly.* "
      ],
      "metadata": {
        "id": "sXcWpUe5MNzV"
      }
    },
    {
      "cell_type": "markdown",
      "metadata": {
        "id": "lspJxoaC7_dJ"
      },
      "source": [
        "## Mount your google drive\n"
      ]
    },
    {
      "cell_type": "code",
      "execution_count": 1,
      "metadata": {
        "colab": {
          "base_uri": "https://localhost:8080/"
        },
        "id": "qMga_pqj7-kj",
        "outputId": "fa4fcd75-7c7e-444c-b3a8-9073832b84fb"
      },
      "outputs": [
        {
          "output_type": "stream",
          "name": "stdout",
          "text": [
            "Drive already mounted at /content/drive; to attempt to forcibly remount, call drive.mount(\"/content/drive\", force_remount=True).\n"
          ]
        }
      ],
      "source": [
        "from google.colab import drive\n",
        "drive.mount('/content/drive')"
      ]
    },
    {
      "cell_type": "markdown",
      "metadata": {
        "id": "lQXRLYDS8VNL"
      },
      "source": [
        "## Insert the directory to your python path using sys "
      ]
    },
    {
      "cell_type": "code",
      "execution_count": 2,
      "metadata": {
        "id": "mGMNAUzB8UfI"
      },
      "outputs": [],
      "source": [
        "import sys\n",
        "sys.path.insert(0,'/content/drive/MyDrive/')"
      ]
    },
    {
      "cell_type": "markdown",
      "source": [
        "## Import the mounted libraries"
      ],
      "metadata": {
        "id": "nZ_eGlVIN5P6"
      }
    },
    {
      "cell_type": "code",
      "execution_count": 3,
      "metadata": {
        "id": "55zNIkUP9Tx_"
      },
      "outputs": [],
      "source": [
        "from lossfunctions import LossFunctions \n",
        "from train import Train"
      ]
    },
    {
      "cell_type": "markdown",
      "metadata": {
        "id": "G9Je76l1IIyr"
      },
      "source": [
        "## Import the required libraries\n",
        "\n"
      ]
    },
    {
      "cell_type": "code",
      "execution_count": 4,
      "metadata": {
        "id": "udnSGSBVDKBz"
      },
      "outputs": [],
      "source": [
        "import torch\n",
        "from torchvision import datasets, models, transforms\n",
        "from torch.utils.data import DataLoader\n",
        "import torch.optim as  optim\n",
        "import numpy as np\n",
        "import pandas as pd\n",
        "import matplotlib.pyplot as plt\n",
        "import time\n",
        "from tqdm import tqdm\n",
        "import torch.nn.functional as F\n",
        "import torch.nn as nn\n"
      ]
    },
    {
      "cell_type": "markdown",
      "metadata": {
        "id": "fd9CL1YmLhZr"
      },
      "source": [
        "## Changing the device to execute on - either CPU or CUDA\n"
      ]
    },
    {
      "cell_type": "code",
      "execution_count": 5,
      "metadata": {
        "colab": {
          "base_uri": "https://localhost:8080/"
        },
        "id": "FBnl3NZLIG-w",
        "outputId": "60ee1860-8815-42d5-e962-113c55d733ae"
      },
      "outputs": [
        {
          "output_type": "stream",
          "name": "stdout",
          "text": [
            "cuda\n"
          ]
        }
      ],
      "source": [
        "device = \"cuda\" if torch.cuda.is_available() else \"cpu\"\n",
        "print(device)"
      ]
    },
    {
      "cell_type": "markdown",
      "metadata": {
        "id": "Mk2BX2b7QkNS"
      },
      "source": [
        "## Assign Batch Size and required transformations for your data"
      ]
    },
    {
      "cell_type": "code",
      "execution_count": 6,
      "metadata": {
        "id": "DRJL4LvyIHC_"
      },
      "outputs": [],
      "source": [
        "batch_size = 256\n",
        "\n",
        "traindata_transforms = transforms.Compose([\n",
        "                        transforms.Resize((32,32)),\n",
        "                        transforms.ToTensor(),\n",
        "                        transforms.Normalize([0.485, 0.456, 0.406], [0.229, 0.224, 0.225])])\n",
        "\n",
        "testdata_transforms = transforms.Compose([\n",
        "                        transforms.Resize((32,32)),  \n",
        "                        transforms.ToTensor(),\n",
        "                        transforms.Normalize([0.485, 0.456, 0.406], [0.229, 0.224, 0.225])])\n"
      ]
    },
    {
      "cell_type": "markdown",
      "metadata": {
        "id": "zgoZrwy8Quml"
      },
      "source": [
        "## Dataloading"
      ]
    },
    {
      "cell_type": "code",
      "execution_count": 7,
      "metadata": {
        "colab": {
          "base_uri": "https://localhost:8080/"
        },
        "id": "wVbof9J7Qd_N",
        "outputId": "26b2fa23-d2f9-4b57-9ab6-82e9582d99ef"
      },
      "outputs": [
        {
          "output_type": "stream",
          "name": "stdout",
          "text": [
            "Files already downloaded and verified\n",
            "Files already downloaded and verified\n"
          ]
        }
      ],
      "source": [
        "traindata = datasets.CIFAR10(root=\"\\PATH\", train=True, transform=traindata_transforms, download=True) \n",
        "testdata = datasets.CIFAR10(root=\"\\PATH\", train=False, transform=traindata_transforms, download=True)\n",
        "\n",
        "train_dataloader = DataLoader(traindata, batch_size, shuffle=True) \n",
        "test_dataloader = DataLoader(testdata, batch_size, shuffle=False)"
      ]
    },
    {
      "cell_type": "markdown",
      "metadata": {
        "id": "u6KazuyyYkLS"
      },
      "source": [
        "## Assign:<br/>\n",
        "-----------------------------------------------------------------------<br/>\n",
        "Number of classes (w.r.t dataset) = n : int <br/>\n",
        "-----------------------------------------------------------------------<br/>\n",
        "Loss Function = (from set of declared 6 loss fucntions, assign one)<br/>\n",
        "1.   L<sub>1</sub> = expectation_loss<br/>\n",
        "2.   L<sub>2</sub> = mse_loss<br/>\n",
        "3.   Softmax Cross Entropy = cross_entropy_loss<br/>\n",
        "4.   Binary Cross Entropy = bce_loss<br/>\n",
        "5.   Negative Log-Likelihood = neg_loglike_loss<br/>\n",
        "6.   Sum-of-Sqaures = sos_loss<br/>\n",
        "-----------------------------------------------------------------------<br/>\n",
        "## Execute the model"
      ]
    },
    {
      "cell_type": "code",
      "execution_count": 8,
      "metadata": {
        "colab": {
          "base_uri": "https://localhost:8080/"
        },
        "id": "iM3S_K35IHVS",
        "outputId": "85013fc0-68dd-496b-dda6-f4356b727424"
      },
      "outputs": [
        {
          "output_type": "stream",
          "name": "stderr",
          "text": [
            "Epoch [0/15]: 100%|██████████| 196/196 [00:28<00:00,  6.85batch/s, train_acc=0.502, train_loss=1.38]\n"
          ]
        },
        {
          "output_type": "stream",
          "name": "stdout",
          "text": [
            "\n",
            "Epoch 0 {'train_loss': 1.3841039, 'train_acc': 0.50159043, 'test_loss': 0.90480816, 'test_acc': 0.625}\n"
          ]
        },
        {
          "output_type": "stream",
          "name": "stderr",
          "text": [
            "Epoch [1/15]: 100%|██████████| 196/196 [00:24<00:00,  7.90batch/s, train_acc=0.655, train_loss=0.969]\n"
          ]
        },
        {
          "output_type": "stream",
          "name": "stdout",
          "text": [
            "\n",
            "Epoch 1 {'train_loss': 0.9687194, 'train_acc': 0.65540093, 'test_loss': 0.76787454, 'test_acc': 0.6875}\n"
          ]
        },
        {
          "output_type": "stream",
          "name": "stderr",
          "text": [
            "Epoch [2/15]: 100%|██████████| 196/196 [00:25<00:00,  7.78batch/s, train_acc=0.724, train_loss=0.79]\n"
          ]
        },
        {
          "output_type": "stream",
          "name": "stdout",
          "text": [
            "\n",
            "Epoch 2 {'train_loss': 0.7897619, 'train_acc': 0.724139, 'test_loss': 0.6521969, 'test_acc': 0.75}\n"
          ]
        },
        {
          "output_type": "stream",
          "name": "stderr",
          "text": [
            "Epoch [3/15]: 100%|██████████| 196/196 [00:24<00:00,  7.96batch/s, train_acc=0.77, train_loss=0.656]\n"
          ]
        },
        {
          "output_type": "stream",
          "name": "stdout",
          "text": [
            "\n",
            "Epoch 3 {'train_loss': 0.65621215, 'train_acc': 0.7702647, 'test_loss': 1.1807548, 'test_acc': 0.5625}\n"
          ]
        },
        {
          "output_type": "stream",
          "name": "stderr",
          "text": [
            "Epoch [4/15]: 100%|██████████| 196/196 [00:24<00:00,  7.87batch/s, train_acc=0.807, train_loss=0.551]\n"
          ]
        },
        {
          "output_type": "stream",
          "name": "stdout",
          "text": [
            "\n",
            "Epoch 4 {'train_loss': 0.55125546, 'train_acc': 0.8067722, 'test_loss': 0.72996074, 'test_acc': 0.6875}\n"
          ]
        },
        {
          "output_type": "stream",
          "name": "stderr",
          "text": [
            "Epoch [5/15]: 100%|██████████| 196/196 [00:24<00:00,  8.03batch/s, train_acc=0.842, train_loss=0.447]\n"
          ]
        },
        {
          "output_type": "stream",
          "name": "stdout",
          "text": [
            "\n",
            "Epoch 5 {'train_loss': 0.4465295, 'train_acc': 0.8424267, 'test_loss': 0.50216275, 'test_acc': 0.75}\n"
          ]
        },
        {
          "output_type": "stream",
          "name": "stderr",
          "text": [
            "Epoch [6/15]: 100%|██████████| 196/196 [00:24<00:00,  8.08batch/s, train_acc=0.87, train_loss=0.37]\n"
          ]
        },
        {
          "output_type": "stream",
          "name": "stdout",
          "text": [
            "\n",
            "Epoch 6 {'train_loss': 0.3698096, 'train_acc': 0.8696588, 'test_loss': 0.6414493, 'test_acc': 0.75}\n"
          ]
        },
        {
          "output_type": "stream",
          "name": "stderr",
          "text": [
            "Epoch [7/15]: 100%|██████████| 196/196 [00:24<00:00,  8.05batch/s, train_acc=0.898, train_loss=0.289]\n"
          ]
        },
        {
          "output_type": "stream",
          "name": "stdout",
          "text": [
            "\n",
            "Epoch 7 {'train_loss': 0.28902274, 'train_acc': 0.89791536, 'test_loss': 0.6191842, 'test_acc': 0.8125}\n"
          ]
        },
        {
          "output_type": "stream",
          "name": "stderr",
          "text": [
            "Epoch [8/15]: 100%|██████████| 196/196 [00:24<00:00,  8.00batch/s, train_acc=0.915, train_loss=0.242]\n"
          ]
        },
        {
          "output_type": "stream",
          "name": "stdout",
          "text": [
            "\n",
            "Epoch 8 {'train_loss': 0.24203561, 'train_acc': 0.9146724, 'test_loss': 0.42509538, 'test_acc': 0.875}\n"
          ]
        },
        {
          "output_type": "stream",
          "name": "stderr",
          "text": [
            "Epoch [9/15]: 100%|██████████| 196/196 [00:24<00:00,  8.05batch/s, train_acc=0.929, train_loss=0.197]\n"
          ]
        },
        {
          "output_type": "stream",
          "name": "stdout",
          "text": [
            "\n",
            "Epoch 9 {'train_loss': 0.19708012, 'train_acc': 0.92927295, 'test_loss': 1.0624489, 'test_acc': 0.6875}\n"
          ]
        },
        {
          "output_type": "stream",
          "name": "stderr",
          "text": [
            "Epoch [10/15]: 100%|██████████| 196/196 [00:24<00:00,  8.13batch/s, train_acc=0.945, train_loss=0.157]\n"
          ]
        },
        {
          "output_type": "stream",
          "name": "stdout",
          "text": [
            "\n",
            "Epoch 10 {'train_loss': 0.15725212, 'train_acc': 0.944611, 'test_loss': 0.68196374, 'test_acc': 0.8125}\n"
          ]
        },
        {
          "output_type": "stream",
          "name": "stderr",
          "text": [
            "Epoch [11/15]: 100%|██████████| 196/196 [00:24<00:00,  8.15batch/s, train_acc=0.956, train_loss=0.127]\n"
          ]
        },
        {
          "output_type": "stream",
          "name": "stdout",
          "text": [
            "\n",
            "Epoch 11 {'train_loss': 0.1270857, 'train_acc': 0.9556561, 'test_loss': 0.899916, 'test_acc': 0.875}\n"
          ]
        },
        {
          "output_type": "stream",
          "name": "stderr",
          "text": [
            "Epoch [12/15]: 100%|██████████| 196/196 [00:24<00:00,  8.02batch/s, train_acc=0.956, train_loss=0.123]\n"
          ]
        },
        {
          "output_type": "stream",
          "name": "stdout",
          "text": [
            "\n",
            "Epoch 12 {'train_loss': 0.122677006, 'train_acc': 0.9561703, 'test_loss': 1.3670872, 'test_acc': 0.75}\n"
          ]
        },
        {
          "output_type": "stream",
          "name": "stderr",
          "text": [
            "Epoch [13/15]: 100%|██████████| 196/196 [00:24<00:00,  8.16batch/s, train_acc=0.962, train_loss=0.106]\n"
          ]
        },
        {
          "output_type": "stream",
          "name": "stdout",
          "text": [
            "\n",
            "Epoch 13 {'train_loss': 0.10639354, 'train_acc': 0.9620456, 'test_loss': 0.9347658, 'test_acc': 0.75}\n"
          ]
        },
        {
          "output_type": "stream",
          "name": "stderr",
          "text": [
            "Epoch [14/15]: 100%|██████████| 196/196 [00:24<00:00,  8.09batch/s, train_acc=0.969, train_loss=0.0892]\n"
          ]
        },
        {
          "output_type": "stream",
          "name": "stdout",
          "text": [
            "\n",
            "Epoch 14 {'train_loss': 0.089245796, 'train_acc': 0.96932, 'test_loss': 1.4637591, 'test_acc': 0.75}\n",
            "Training Completed in 7 min 15 sec\n"
          ]
        }
      ],
      "source": [
        "num_classes = 10\n",
        "lf = LossFunctions(num_classes)\n",
        "loss = lf.cross_entropy_loss\n",
        "batch_size = 512\n",
        "optimizer = optim.Adam\n",
        "epochs = 15\n",
        "modelname = 'resnet18'\n",
        "dataset = '\\cifar10'\n",
        "\n",
        "# Declaring Loss Function\n",
        "l = LossFunctions(num_classes)\n",
        "# Training \n",
        "t = Train(optimizer = optimizer,\n",
        "          loss = loss,\n",
        "          epochs = epochs,\n",
        "          modelname = modelname,\n",
        "          dataset = dataset,\n",
        "          )\n",
        "filename = dataset[1:] + modelname\n",
        "\n",
        "history = t.train(\n",
        "            train_dl = train_dataloader,\n",
        "            test_dl = test_dataloader,\n",
        "            num_classes = num_classes,\n",
        "            filename = filename,\n",
        "            dataset = dataset\n",
        "            )"
      ]
    },
    {
      "cell_type": "markdown",
      "metadata": {
        "id": "3HUPU00zZJcU"
      },
      "source": [
        "## Visualize the Model's **CKA**\n",
        "Code referral have been provided in the \"***Code References***\" section in **README.md**\n"
      ]
    },
    {
      "cell_type": "code",
      "source": [
        "pip install torch_cka"
      ],
      "metadata": {
        "id": "cC0Vd-yrGlzd",
        "colab": {
          "base_uri": "https://localhost:8080/"
        },
        "outputId": "ff5e6bd9-b968-460c-e39f-6ef365f8120b"
      },
      "execution_count": 9,
      "outputs": [
        {
          "output_type": "stream",
          "name": "stdout",
          "text": [
            "Requirement already satisfied: torch_cka in /usr/local/lib/python3.7/dist-packages (0.21)\n"
          ]
        }
      ]
    },
    {
      "cell_type": "code",
      "source": [
        "from torch_cka import CKA\n",
        "model1 = models.resnet18(pretrained=True)  # Or any neural network of your choice\n",
        "model2 = models.resnet18(pretrained=False)\n",
        "\n",
        "# # or # \n",
        "\n",
        "# model1 = torch.load(r'\\PATH') ## Load Model Path\n",
        "# model1.load_state_dict(torch.load(r'PATH')) ## Load Model Weights Path\n",
        "# model2 = torch.load(r'\\PATH') ## Load Model Path\n",
        "# model2.load_state_dict(torch.load(r'PATH')) ## Load Model Weights Path\n",
        "\n",
        "dataloader = DataLoader(testdata, \n",
        "                        batch_size=batch_size, # according to your device memory\n",
        "                        shuffle=False)  # Don't forget to seed your dataloader\n",
        "\n",
        "cka = CKA(model1, model2,\n",
        "          model1_name=\"ResNet18 PT=True\",   # good idea to provide names to avoid confusion\n",
        "          model2_name=\"ResNet18 PT=False\",   \n",
        "#          model1_layers=layer_names_resnet18, # List of layers to extract features from\n",
        "#          model2_layers=layer_names_resnet34, # extracts all layer features by default\n",
        "          device='cuda')\n",
        "\n",
        "cka.compare(dataloader) # secondary dataloader is optional\n",
        "\n",
        "results = cka.export()  # returns a dict that contains model names, layer names\n",
        "                        # and the CKA matrix\n"
      ],
      "metadata": {
        "id": "9eZ_39AXGomW",
        "colab": {
          "base_uri": "https://localhost:8080/"
        },
        "outputId": "825adce5-9b66-4199-9e6b-265faaae8132"
      },
      "execution_count": 12,
      "outputs": [
        {
          "output_type": "stream",
          "name": "stderr",
          "text": [
            "/usr/local/lib/python3.7/dist-packages/torch_cka/cka.py:145: UserWarning: Dataloader for Model 2 is not given. Using the same dataloader for both models.\n",
            "  warn(\"Dataloader for Model 2 is not given. Using the same dataloader for both models.\")\n",
            "| Comparing features |: 100%|██████████| 20/20 [03:41<00:00, 11.09s/it]\n"
          ]
        }
      ]
    },
    {
      "cell_type": "code",
      "source": [
        "cka.plot_results()"
      ],
      "metadata": {
        "colab": {
          "base_uri": "https://localhost:8080/",
          "height": 297
        },
        "id": "57lHpaC0K1Pp",
        "outputId": "2878f2a7-7e6e-432a-87b7-7e3c6806466f"
      },
      "execution_count": 14,
      "outputs": [
        {
          "output_type": "display_data",
          "data": {
            "text/plain": [
              "<Figure size 432x288 with 2 Axes>"
            ],
            "image/png": "[encoded data removed]"
          },
          "metadata": {
            "needs_background": "light"
          }
        }
      ]
    }
  ],
  "metadata": {
    "accelerator": "GPU",
    "colab": {
      "collapsed_sections": [],
      "name": "tutorial.ipynb",
      "provenance": [],
      "authorship_tag": "ABX9TyN3raIomCVXVl5ipgVJd9t5",
      "include_colab_link": true
    },
    "kernelspec": {
      "display_name": "Python 3",
      "name": "python3"
    },
    "language_info": {
      "name": "python"
    }
  },
  "nbformat": 4,
  "nbformat_minor": 0
}