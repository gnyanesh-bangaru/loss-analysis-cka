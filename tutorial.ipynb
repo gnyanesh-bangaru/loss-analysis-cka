{
  "cells": [
    {
      "cell_type": "markdown",
      "metadata": {
        "id": "view-in-github",
        "colab_type": "text"
      },
      "source": [
        "<a href=\"https://colab.research.google.com/github/myspace-img/loss-analysis-cka/blob/main/tutorial.ipynb\" target=\"_parent\"><img src=\"https://colab.research.google.com/assets/colab-badge.svg\" alt=\"Open In Colab\"/></a>"
      ]
    },
    {
      "cell_type": "markdown",
      "source": [
        "# In order to execute these set of loss functions on mutliple models, do the following:\n",
        "#### **Step-1**: *Download **lossfunctions.py** and **train.py** files and add them to your google drive* \n",
        "\n",
        "#### **Step-2**: *Mount your drive to the Colab and insert the path via sys library*\n",
        "#### **Step-3**: *Now, import the files and use as instructed, accordingly.* "
      ],
      "metadata": {
        "id": "sXcWpUe5MNzV"
      }
    },
    {
      "cell_type": "markdown",
      "metadata": {
        "id": "lspJxoaC7_dJ"
      },
      "source": [
        "## Mount your google drive\n"
      ]
    },
    {
      "cell_type": "code",
      "execution_count": null,
      "metadata": {
        "colab": {
          "base_uri": "https://localhost:8080/"
        },
        "id": "qMga_pqj7-kj",
        "outputId": "121cb1b3-0c73-42cc-f90d-15a0b8177f38"
      },
      "outputs": [
        {
          "output_type": "stream",
          "name": "stdout",
          "text": [
            "Drive already mounted at /content/drive; to attempt to forcibly remount, call drive.mount(\"/content/drive\", force_remount=True).\n"
          ]
        }
      ],
      "source": [
        "from google.colab import drive\n",
        "drive.mount('/content/drive')"
      ]
    },
    {
      "cell_type": "markdown",
      "metadata": {
        "id": "lQXRLYDS8VNL"
      },
      "source": [
        "## Insert the directory to your python path using sys."
      ]
    },
    {
      "cell_type": "code",
      "execution_count": null,
      "metadata": {
        "id": "mGMNAUzB8UfI"
      },
      "outputs": [],
      "source": [
        "import sys\n",
        "sys.path.insert(0,'/content/drive/MyDrive/')"
      ]
    },
    {
      "cell_type": "markdown",
      "source": [
        "## Import the mounted libraries"
      ],
      "metadata": {
        "id": "nZ_eGlVIN5P6"
      }
    },
    {
      "cell_type": "code",
      "execution_count": null,
      "metadata": {
        "id": "55zNIkUP9Tx_"
      },
      "outputs": [],
      "source": [
        "from lossfunctions import LossFunctions \n",
        "from train import Train\n",
        "from dataloader import LoadData"
      ]
    },
    {
      "cell_type": "markdown",
      "metadata": {
        "id": "G9Je76l1IIyr"
      },
      "source": [
        "## Import the required libraries\n",
        "\n"
      ]
    },
    {
      "cell_type": "code",
      "execution_count": null,
      "metadata": {
        "id": "udnSGSBVDKBz"
      },
      "outputs": [],
      "source": [
        "import torch\n",
        "from torchvision import models, transforms\n",
        "from torch.utils.data import DataLoader\n",
        "import torch.optim as  optim\n",
        "import numpy as np\n",
        "import pandas as pd\n",
        "import matplotlib.pyplot as plt\n",
        "import time\n",
        "from tqdm import tqdm\n",
        "import torch.nn.functional as F\n",
        "import torch.nn as nn\n"
      ]
    },
    {
      "cell_type": "markdown",
      "metadata": {
        "id": "fd9CL1YmLhZr"
      },
      "source": [
        "## Changing the device to execute on - either CPU or CUDA\n"
      ]
    },
    {
      "cell_type": "code",
      "execution_count": null,
      "metadata": {
        "colab": {
          "base_uri": "https://localhost:8080/"
        },
        "id": "FBnl3NZLIG-w",
        "outputId": "97f479d4-7e57-490a-d0a8-e77aa02bb745"
      },
      "outputs": [
        {
          "output_type": "stream",
          "name": "stdout",
          "text": [
            "cuda\n"
          ]
        }
      ],
      "source": [
        "device = \"cuda\" if torch.cuda.is_available() else \"cpu\"\n",
        "print(device)"
      ]
    },
    {
      "cell_type": "markdown",
      "metadata": {
        "id": "Mk2BX2b7QkNS"
      },
      "source": [
        "## Assign Batch Size and load required dataset with applied transformations for your data. Later, load the data."
      ]
    },
    {
      "cell_type": "code",
      "execution_count": null,
      "metadata": {
        "colab": {
          "base_uri": "https://localhost:8080/",
          "height": 118,
          "referenced_widgets": [
            "8f68212a6bac461aabf9615f5911f2de",
            "587d0f7778f64e5487e97ab2336c98cb",
            "1f211527e2a54bea9192565f898bb833",
            "6c95e7186fb64636be88e2e9be79fa2f",
            "f4f1f5a5221d45c08a949cd46c27afef",
            "8f42ec735ba34fdfbfccf8e61f0447b6",
            "035c5863b9464793b78ae728c4dd6dfe",
            "4a79e16b272649a39b3c14526dfb974c",
            "04ae079bc471492481d68340ab14fca3",
            "b3f40aa35d4c46ec8e0fc200c49015eb",
            "192b7d03ab7a478389ab3350b8868a2b"
          ]
        },
        "id": "wVbof9J7Qd_N",
        "outputId": "73f5eea6-09fd-4ffd-937a-70774d862168"
      },
      "outputs": [
        {
          "output_type": "stream",
          "name": "stdout",
          "text": [
            "cuda:0\n",
            "Downloading https://www.cs.toronto.edu/~kriz/cifar-10-python.tar.gz to .\\data/cifar-10-python.tar.gz\n"
          ]
        },
        {
          "output_type": "display_data",
          "data": {
            "text/plain": [
              "  0%|          | 0/170498071 [00:00<?, ?it/s]"
            ],
            "application/vnd.jupyter.widget-view+json": {
              "version_major": 2,
              "version_minor": 0,
              "model_id": "8f68212a6bac461aabf9615f5911f2de"
            }
          },
          "metadata": {}
        },
        {
          "output_type": "stream",
          "name": "stdout",
          "text": [
            "Extracting .\\data/cifar-10-python.tar.gz to .\\data\n",
            "Files already downloaded and verified\n"
          ]
        }
      ],
      "source": [
        "directory = r'\\PATH'\n",
        "dl = LoadData(directory)\n",
        "\n",
        "# Specify the dataset name (according to dataloader)\n",
        "dataset = '\\cifar10' \n",
        "\n",
        "batch_size = 256\n",
        "\n",
        "train_dataloader, test_dataloader, num_classes = dl.dataloader(dataset, batch_size)"
      ]
    },
    {
      "cell_type": "markdown",
      "metadata": {
        "id": "u6KazuyyYkLS"
      },
      "source": [
        "## Assign:<br/>\n",
        "-----------------------------------------------------------------------<br/>\n",
        "Number of classes (w.r.t dataset) = n : int <br/>\n",
        "-----------------------------------------------------------------------<br/>\n",
        "Loss Function = (from set of declared 6 loss fucntions, assign one)<br/>\n",
        "1.   L<sub>1</sub> = expectation_loss<br/>\n",
        "2.   L<sub>2</sub> = mse_loss<br/>\n",
        "3.   Softmax Cross Entropy = cross_entropy_loss<br/>\n",
        "4.   Binary Cross Entropy = bce_loss<br/>\n",
        "5.   Negative Log-Likelihood = neg_loglike_loss<br/>\n",
        "6.   Sum-of-Sqaures = sos_loss<br/>\n",
        "-----------------------------------------------------------------------<br/>\n",
        "## Execute the model"
      ]
    },
    {
      "cell_type": "code",
      "execution_count": null,
      "metadata": {
        "colab": {
          "base_uri": "https://localhost:8080/"
        },
        "id": "iM3S_K35IHVS",
        "outputId": "e3f60982-4459-44b3-8555-e9a0aa97a43e"
      },
      "outputs": [
        {
          "output_type": "stream",
          "name": "stderr",
          "text": [
            "Epoch [0/15]: 100%|██████████| 196/196 [00:27<00:00,  7.18batch/s, train_acc=0.549, train_loss=1.25]\n"
          ]
        },
        {
          "output_type": "stream",
          "name": "stdout",
          "text": [
            "\n",
            "Epoch 0 {'train_loss': 1.2512211, 'train_acc': 0.54930645, 'test_loss': 1.1228906, 'test_acc': 0.5625}\n"
          ]
        },
        {
          "output_type": "stream",
          "name": "stderr",
          "text": [
            "Epoch [1/15]: 100%|██████████| 196/196 [00:25<00:00,  7.66batch/s, train_acc=0.701, train_loss=0.846]\n"
          ]
        },
        {
          "output_type": "stream",
          "name": "stdout",
          "text": [
            "\n",
            "Epoch 1 {'train_loss': 0.845727, 'train_acc': 0.7006019, 'test_loss': 0.58768505, 'test_acc': 0.75}\n"
          ]
        },
        {
          "output_type": "stream",
          "name": "stderr",
          "text": [
            "Epoch [2/15]: 100%|██████████| 196/196 [00:25<00:00,  7.67batch/s, train_acc=0.769, train_loss=0.664]\n"
          ]
        },
        {
          "output_type": "stream",
          "name": "stdout",
          "text": [
            "\n",
            "Epoch 2 {'train_loss': 0.6643753, 'train_acc': 0.7690729, 'test_loss': 0.81708413, 'test_acc': 0.5625}\n"
          ]
        },
        {
          "output_type": "stream",
          "name": "stderr",
          "text": [
            "Epoch [3/15]: 100%|██████████| 196/196 [00:25<00:00,  7.69batch/s, train_acc=0.806, train_loss=0.56]\n"
          ]
        },
        {
          "output_type": "stream",
          "name": "stdout",
          "text": [
            "\n",
            "Epoch 3 {'train_loss': 0.560107, 'train_acc': 0.80583143, 'test_loss': 0.95569354, 'test_acc': 0.625}\n"
          ]
        },
        {
          "output_type": "stream",
          "name": "stderr",
          "text": [
            "Epoch [4/15]: 100%|██████████| 196/196 [00:25<00:00,  7.71batch/s, train_acc=0.836, train_loss=0.476]\n"
          ]
        },
        {
          "output_type": "stream",
          "name": "stdout",
          "text": [
            "\n",
            "Epoch 4 {'train_loss': 0.4758577, 'train_acc': 0.83584183, 'test_loss': 0.55459625, 'test_acc': 0.75}\n"
          ]
        },
        {
          "output_type": "stream",
          "name": "stderr",
          "text": [
            "Epoch [5/15]: 100%|██████████| 196/196 [00:25<00:00,  7.70batch/s, train_acc=0.859, train_loss=0.407]\n"
          ]
        },
        {
          "output_type": "stream",
          "name": "stdout",
          "text": [
            "\n",
            "Epoch 5 {'train_loss': 0.4067457, 'train_acc': 0.85896844, 'test_loss': 0.36220643, 'test_acc': 0.9375}\n"
          ]
        },
        {
          "output_type": "stream",
          "name": "stderr",
          "text": [
            "Epoch [6/15]: 100%|██████████| 196/196 [00:25<00:00,  7.70batch/s, train_acc=0.879, train_loss=0.349]\n"
          ]
        },
        {
          "output_type": "stream",
          "name": "stdout",
          "text": [
            "\n",
            "Epoch 6 {'train_loss': 0.34856486, 'train_acc': 0.8790298, 'test_loss': 0.9882745, 'test_acc': 0.6875}\n"
          ]
        },
        {
          "output_type": "stream",
          "name": "stderr",
          "text": [
            "Epoch [7/15]: 100%|██████████| 196/196 [00:25<00:00,  7.67batch/s, train_acc=0.895, train_loss=0.304]\n"
          ]
        },
        {
          "output_type": "stream",
          "name": "stdout",
          "text": [
            "\n",
            "Epoch 7 {'train_loss': 0.3035876, 'train_acc': 0.8945472, 'test_loss': 0.8855531, 'test_acc': 0.8125}\n"
          ]
        },
        {
          "output_type": "stream",
          "name": "stderr",
          "text": [
            "Epoch [8/15]: 100%|██████████| 196/196 [00:25<00:00,  7.71batch/s, train_acc=0.908, train_loss=0.264]\n"
          ]
        },
        {
          "output_type": "stream",
          "name": "stdout",
          "text": [
            "\n",
            "Epoch 8 {'train_loss': 0.26372492, 'train_acc': 0.9079241, 'test_loss': 0.7057776, 'test_acc': 0.875}\n"
          ]
        },
        {
          "output_type": "stream",
          "name": "stderr",
          "text": [
            "Epoch [9/15]: 100%|██████████| 196/196 [00:25<00:00,  7.69batch/s, train_acc=0.924, train_loss=0.22]\n"
          ]
        },
        {
          "output_type": "stream",
          "name": "stdout",
          "text": [
            "\n",
            "Epoch 9 {'train_loss': 0.22003259, 'train_acc': 0.9240553, 'test_loss': 0.61522627, 'test_acc': 0.8125}\n"
          ]
        },
        {
          "output_type": "stream",
          "name": "stderr",
          "text": [
            "Epoch [10/15]: 100%|██████████| 196/196 [00:25<00:00,  7.72batch/s, train_acc=0.933, train_loss=0.19]\n"
          ]
        },
        {
          "output_type": "stream",
          "name": "stdout",
          "text": [
            "\n",
            "Epoch 10 {'train_loss': 0.19046149, 'train_acc': 0.9330876, 'test_loss': 0.10830293, 'test_acc': 1.0}\n"
          ]
        },
        {
          "output_type": "stream",
          "name": "stderr",
          "text": [
            "Epoch [11/15]: 100%|██████████| 196/196 [00:25<00:00,  7.71batch/s, train_acc=0.941, train_loss=0.168]\n"
          ]
        },
        {
          "output_type": "stream",
          "name": "stdout",
          "text": [
            "\n",
            "Epoch 11 {'train_loss': 0.1676817, 'train_acc': 0.9408841, 'test_loss': 0.65555996, 'test_acc': 0.75}\n"
          ]
        },
        {
          "output_type": "stream",
          "name": "stderr",
          "text": [
            "Epoch [12/15]: 100%|██████████| 196/196 [00:25<00:00,  7.72batch/s, train_acc=0.95, train_loss=0.144]\n"
          ]
        },
        {
          "output_type": "stream",
          "name": "stdout",
          "text": [
            "\n",
            "Epoch 12 {'train_loss': 0.14361352, 'train_acc': 0.95014346, 'test_loss': 1.1185948, 'test_acc': 0.75}\n"
          ]
        },
        {
          "output_type": "stream",
          "name": "stderr",
          "text": [
            "Epoch [13/15]: 100%|██████████| 196/196 [00:25<00:00,  7.71batch/s, train_acc=0.956, train_loss=0.127]\n"
          ]
        },
        {
          "output_type": "stream",
          "name": "stdout",
          "text": [
            "\n",
            "Epoch 13 {'train_loss': 0.12678717, 'train_acc': 0.9561703, 'test_loss': 0.34861362, 'test_acc': 0.8125}\n"
          ]
        },
        {
          "output_type": "stream",
          "name": "stderr",
          "text": [
            "Epoch [14/15]: 100%|██████████| 196/196 [00:25<00:00,  7.69batch/s, train_acc=0.96, train_loss=0.116]\n"
          ]
        },
        {
          "output_type": "stream",
          "name": "stdout",
          "text": [
            "\n",
            "Epoch 14 {'train_loss': 0.116423644, 'train_acc': 0.9598254, 'test_loss': 0.96093017, 'test_acc': 0.8125}\n",
            "Training Completed in 7 min 39 sec\n"
          ]
        }
      ],
      "source": [
        "num_classes = 10\n",
        "lf = LossFunctions(num_classes)\n",
        "loss = lf.cross_entropy_loss\n",
        "optimizer = optim.Adam\n",
        "epochs = 15\n",
        "modelname = 'resnet18'\n",
        "dataset = '\\cifar10'\n",
        "\n",
        "# Training \n",
        "t = Train(optimizer = optimizer,\n",
        "          loss = loss,\n",
        "          epochs = epochs,\n",
        "          modelname = modelname,\n",
        "          dataset = dataset,\n",
        "          )\n",
        "filename = dataset[1:] + modelname\n",
        "\n",
        "history = t.train(\n",
        "            train_dl = train_dataloader,\n",
        "            test_dl = test_dataloader,\n",
        "            num_classes = num_classes,\n",
        "            filename = filename,\n",
        "            dataset = dataset\n",
        "            )"
      ]
    },
    {
      "cell_type": "markdown",
      "metadata": {
        "id": "3HUPU00zZJcU"
      },
      "source": [
        "## Visualize the Model's **CKA**\n",
        "Code referral have been provided in the \"***Code References***\" section in **README.md**\n"
      ]
    },
    {
      "cell_type": "code",
      "source": [
        "pip install torch_cka"
      ],
      "metadata": {
        "id": "cC0Vd-yrGlzd",
        "colab": {
          "base_uri": "https://localhost:8080/"
        },
        "outputId": "2fd51b4a-beff-49a1-eab8-b8b4bf3d8ad8"
      },
      "execution_count": null,
      "outputs": [
        {
          "output_type": "stream",
          "name": "stdout",
          "text": [
            "Collecting torch_cka\n",
            "  Downloading torch_cka-0.21-py3-none-any.whl (8.1 kB)\n",
            "Installing collected packages: torch-cka\n",
            "Successfully installed torch-cka-0.21\n"
          ]
        }
      ]
    },
    {
      "cell_type": "code",
      "source": [
        "from torch_cka import CKA\n",
        "from torchvision.datasets import CIFAR10\n",
        "from torchvision.transforms import Compose, ToTensor, Resize, Normalize\n",
        "\n",
        "model1 = models.resnet18(pretrained=True)  # Or any neural network of your choice\n",
        "model2 = models.resnet18(pretrained=False)\n",
        "testdata_transforms = Compose([\n",
        "                        Resize((64, 64)),  \n",
        "                        ToTensor(),\n",
        "                        Normalize([0.485, 0.456, 0.406], [0.229, 0.224, 0.225])\n",
        "                        ])\n",
        "test_dataset = CIFAR10(download=True, \n",
        "                                    root = '.\\data', \n",
        "                                    transform = testdata_transforms, \n",
        "                                    train = False)\n",
        "\n",
        "# # or # \n",
        "\n",
        "# model1 = torch.load(r'\\PATH') ## Load Model Path\n",
        "# model1.load_state_dict(torch.load(r'PATH')) ## Load Model Weights Path\n",
        "# model2 = torch.load(r'\\PATH') ## Load Model Path\n",
        "# model2.load_state_dict(torch.load(r'PATH')) ## Load Model Weights Path\n",
        "\n",
        "dataloader = DataLoader(test_dataset, \n",
        "                        batch_size=batch_size, # according to your device memory\n",
        "                        shuffle=False)  # Don't forget to seed your dataloader\n",
        "\n",
        "cka = CKA(model1, model2,\n",
        "          model1_name=\"ResNet18 PT=True\",   # good idea to provide names to avoid confusion\n",
        "          model2_name=\"ResNet18 PT=False\",   \n",
        "#          model1_layers=layer_names_resnet18, # List of layers to extract features from\n",
        "#          model2_layers=layer_names_resnet34, # extracts all layer features by default\n",
        "          device='cuda')\n",
        "\n",
        "cka.compare(dataloader) # secondary dataloader is optional\n",
        "\n",
        "results = cka.export()  # returns a dict that contains model names, layer names\n",
        "                        # and the CKA matrix\n"
      ],
      "metadata": {
        "id": "9eZ_39AXGomW",
        "colab": {
          "base_uri": "https://localhost:8080/"
        },
        "outputId": "cd07e805-ad8f-465d-e884-b20988bc8c2f"
      },
      "execution_count": null,
      "outputs": [
        {
          "output_type": "stream",
          "name": "stdout",
          "text": [
            "Files already downloaded and verified\n"
          ]
        },
        {
          "output_type": "stream",
          "name": "stderr",
          "text": [
            "/usr/local/lib/python3.7/dist-packages/torch_cka/cka.py:145: UserWarning: Dataloader for Model 2 is not given. Using the same dataloader for both models.\n",
            "  warn(\"Dataloader for Model 2 is not given. Using the same dataloader for both models.\")\n",
            "| Comparing features |: 100%|██████████| 20/20 [03:13<00:00,  9.67s/it]\n"
          ]
        }
      ]
    },
    {
      "cell_type": "code",
      "source": [
        "cka.plot_results()"
      ],
      "metadata": {
        "colab": {
          "base_uri": "https://localhost:8080/",
          "height": 297
        },
        "id": "57lHpaC0K1Pp",
        "outputId": "32e2b5e5-0898-4e6f-c48f-2efd4a3f0baa"
      },
      "execution_count": null,
      "outputs": [
        {
          "output_type": "display_data",
          "data": {
            "text/plain": [
              "<Figure size 432x288 with 2 Axes>"
            ],
            "image/png": "[encoded data removed]"
          },
          "metadata": {
            "needs_background": "light"
          }
        }
      ]
    }
  ],
  "metadata": {
    "accelerator": "GPU",
    "colab": {
      "collapsed_sections": [],
      "name": "tutorial.ipynb",
      "provenance": [],
      "mount_file_id": "https://github.com/libra0901/loss-analysis-cka/blob/main/tutorial.ipynb",
      "authorship_tag": "ABX9TyOi2JYM1Ng6XZZfmpt0QKBu",
      "include_colab_link": true
    },
    "kernelspec": {
      "display_name": "Python 3",
      "name": "python3"
    },
    "language_info": {
      "name": "python"
    },
    "widgets": {
      "application/vnd.jupyter.widget-state+json": {
        "8f68212a6bac461aabf9615f5911f2de": {
          "model_module": "@jupyter-widgets/controls",
          "model_name": "HBoxModel",
          "model_module_version": "1.5.0",
          "state": {
            "_dom_classes": [],
            "_model_module": "@jupyter-widgets/controls",
            "_model_module_version": "1.5.0",
            "_model_name": "HBoxModel",
            "_view_count": null,
            "_view_module": "@jupyter-widgets/controls",
            "_view_module_version": "1.5.0",
            "_view_name": "HBoxView",
            "box_style": "",
            "children": [
              "IPY_MODEL_587d0f7778f64e5487e97ab2336c98cb",
              "IPY_MODEL_1f211527e2a54bea9192565f898bb833",
              "IPY_MODEL_6c95e7186fb64636be88e2e9be79fa2f"
            ],
            "layout": "IPY_MODEL_f4f1f5a5221d45c08a949cd46c27afef"
          }
        },
        "587d0f7778f64e5487e97ab2336c98cb": {
          "model_module": "@jupyter-widgets/controls",
          "model_name": "HTMLModel",
          "model_module_version": "1.5.0",
          "state": {
            "_dom_classes": [],
            "_model_module": "@jupyter-widgets/controls",
            "_model_module_version": "1.5.0",
            "_model_name": "HTMLModel",
            "_view_count": null,
            "_view_module": "@jupyter-widgets/controls",
            "_view_module_version": "1.5.0",
            "_view_name": "HTMLView",
            "description": "",
            "description_tooltip": null,
            "layout": "IPY_MODEL_8f42ec735ba34fdfbfccf8e61f0447b6",
            "placeholder": "​",
            "style": "IPY_MODEL_035c5863b9464793b78ae728c4dd6dfe",
            "value": ""
          }
        },
        "1f211527e2a54bea9192565f898bb833": {
          "model_module": "@jupyter-widgets/controls",
          "model_name": "FloatProgressModel",
          "model_module_version": "1.5.0",
          "state": {
            "_dom_classes": [],
            "_model_module": "@jupyter-widgets/controls",
            "_model_module_version": "1.5.0",
            "_model_name": "FloatProgressModel",
            "_view_count": null,
            "_view_module": "@jupyter-widgets/controls",
            "_view_module_version": "1.5.0",
            "_view_name": "ProgressView",
            "bar_style": "success",
            "description": "",
            "description_tooltip": null,
            "layout": "IPY_MODEL_4a79e16b272649a39b3c14526dfb974c",
            "max": 170498071,
            "min": 0,
            "orientation": "horizontal",
            "style": "IPY_MODEL_04ae079bc471492481d68340ab14fca3",
            "value": 170498071
          }
        },
        "6c95e7186fb64636be88e2e9be79fa2f": {
          "model_module": "@jupyter-widgets/controls",
          "model_name": "HTMLModel",
          "model_module_version": "1.5.0",
          "state": {
            "_dom_classes": [],
            "_model_module": "@jupyter-widgets/controls",
            "_model_module_version": "1.5.0",
            "_model_name": "HTMLModel",
            "_view_count": null,
            "_view_module": "@jupyter-widgets/controls",
            "_view_module_version": "1.5.0",
            "_view_name": "HTMLView",
            "description": "",
            "description_tooltip": null,
            "layout": "IPY_MODEL_b3f40aa35d4c46ec8e0fc200c49015eb",
            "placeholder": "​",
            "style": "IPY_MODEL_192b7d03ab7a478389ab3350b8868a2b",
            "value": " 170499072/? [00:13&lt;00:00, 13263261.68it/s]"
          }
        },
        "f4f1f5a5221d45c08a949cd46c27afef": {
          "model_module": "@jupyter-widgets/base",
          "model_name": "LayoutModel",
          "model_module_version": "1.2.0",
          "state": {
            "_model_module": "@jupyter-widgets/base",
            "_model_module_version": "1.2.0",
            "_model_name": "LayoutModel",
            "_view_count": null,
            "_view_module": "@jupyter-widgets/base",
            "_view_module_version": "1.2.0",
            "_view_name": "LayoutView",
            "align_content": null,
            "align_items": null,
            "align_self": null,
            "border": null,
            "bottom": null,
            "display": null,
            "flex": null,
            "flex_flow": null,
            "grid_area": null,
            "grid_auto_columns": null,
            "grid_auto_flow": null,
            "grid_auto_rows": null,
            "grid_column": null,
            "grid_gap": null,
            "grid_row": null,
            "grid_template_areas": null,
            "grid_template_columns": null,
            "grid_template_rows": null,
            "height": null,
            "justify_content": null,
            "justify_items": null,
            "left": null,
            "margin": null,
            "max_height": null,
            "max_width": null,
            "min_height": null,
            "min_width": null,
            "object_fit": null,
            "object_position": null,
            "order": null,
            "overflow": null,
            "overflow_x": null,
            "overflow_y": null,
            "padding": null,
            "right": null,
            "top": null,
            "visibility": null,
            "width": null
          }
        },
        "8f42ec735ba34fdfbfccf8e61f0447b6": {
          "model_module": "@jupyter-widgets/base",
          "model_name": "LayoutModel",
          "model_module_version": "1.2.0",
          "state": {
            "_model_module": "@jupyter-widgets/base",
            "_model_module_version": "1.2.0",
            "_model_name": "LayoutModel",
            "_view_count": null,
            "_view_module": "@jupyter-widgets/base",
            "_view_module_version": "1.2.0",
            "_view_name": "LayoutView",
            "align_content": null,
            "align_items": null,
            "align_self": null,
            "border": null,
            "bottom": null,
            "display": null,
            "flex": null,
            "flex_flow": null,
            "grid_area": null,
            "grid_auto_columns": null,
            "grid_auto_flow": null,
            "grid_auto_rows": null,
            "grid_column": null,
            "grid_gap": null,
            "grid_row": null,
            "grid_template_areas": null,
            "grid_template_columns": null,
            "grid_template_rows": null,
            "height": null,
            "justify_content": null,
            "justify_items": null,
            "left": null,
            "margin": null,
            "max_height": null,
            "max_width": null,
            "min_height": null,
            "min_width": null,
            "object_fit": null,
            "object_position": null,
            "order": null,
            "overflow": null,
            "overflow_x": null,
            "overflow_y": null,
            "padding": null,
            "right": null,
            "top": null,
            "visibility": null,
            "width": null
          }
        },
        "035c5863b9464793b78ae728c4dd6dfe": {
          "model_module": "@jupyter-widgets/controls",
          "model_name": "DescriptionStyleModel",
          "model_module_version": "1.5.0",
          "state": {
            "_model_module": "@jupyter-widgets/controls",
            "_model_module_version": "1.5.0",
            "_model_name": "DescriptionStyleModel",
            "_view_count": null,
            "_view_module": "@jupyter-widgets/base",
            "_view_module_version": "1.2.0",
            "_view_name": "StyleView",
            "description_width": ""
          }
        },
        "4a79e16b272649a39b3c14526dfb974c": {
          "model_module": "@jupyter-widgets/base",
          "model_name": "LayoutModel",
          "model_module_version": "1.2.0",
          "state": {
            "_model_module": "@jupyter-widgets/base",
            "_model_module_version": "1.2.0",
            "_model_name": "LayoutModel",
            "_view_count": null,
            "_view_module": "@jupyter-widgets/base",
            "_view_module_version": "1.2.0",
            "_view_name": "LayoutView",
            "align_content": null,
            "align_items": null,
            "align_self": null,
            "border": null,
            "bottom": null,
            "display": null,
            "flex": null,
            "flex_flow": null,
            "grid_area": null,
            "grid_auto_columns": null,
            "grid_auto_flow": null,
            "grid_auto_rows": null,
            "grid_column": null,
            "grid_gap": null,
            "grid_row": null,
            "grid_template_areas": null,
            "grid_template_columns": null,
            "grid_template_rows": null,
            "height": null,
            "justify_content": null,
            "justify_items": null,
            "left": null,
            "margin": null,
            "max_height": null,
            "max_width": null,
            "min_height": null,
            "min_width": null,
            "object_fit": null,
            "object_position": null,
            "order": null,
            "overflow": null,
            "overflow_x": null,
            "overflow_y": null,
            "padding": null,
            "right": null,
            "top": null,
            "visibility": null,
            "width": null
          }
        },
        "04ae079bc471492481d68340ab14fca3": {
          "model_module": "@jupyter-widgets/controls",
          "model_name": "ProgressStyleModel",
          "model_module_version": "1.5.0",
          "state": {
            "_model_module": "@jupyter-widgets/controls",
            "_model_module_version": "1.5.0",
            "_model_name": "ProgressStyleModel",
            "_view_count": null,
            "_view_module": "@jupyter-widgets/base",
            "_view_module_version": "1.2.0",
            "_view_name": "StyleView",
            "bar_color": null,
            "description_width": ""
          }
        },
        "b3f40aa35d4c46ec8e0fc200c49015eb": {
          "model_module": "@jupyter-widgets/base",
          "model_name": "LayoutModel",
          "model_module_version": "1.2.0",
          "state": {
            "_model_module": "@jupyter-widgets/base",
            "_model_module_version": "1.2.0",
            "_model_name": "LayoutModel",
            "_view_count": null,
            "_view_module": "@jupyter-widgets/base",
            "_view_module_version": "1.2.0",
            "_view_name": "LayoutView",
            "align_content": null,
            "align_items": null,
            "align_self": null,
            "border": null,
            "bottom": null,
            "display": null,
            "flex": null,
            "flex_flow": null,
            "grid_area": null,
            "grid_auto_columns": null,
            "grid_auto_flow": null,
            "grid_auto_rows": null,
            "grid_column": null,
            "grid_gap": null,
            "grid_row": null,
            "grid_template_areas": null,
            "grid_template_columns": null,
            "grid_template_rows": null,
            "height": null,
            "justify_content": null,
            "justify_items": null,
            "left": null,
            "margin": null,
            "max_height": null,
            "max_width": null,
            "min_height": null,
            "min_width": null,
            "object_fit": null,
            "object_position": null,
            "order": null,
            "overflow": null,
            "overflow_x": null,
            "overflow_y": null,
            "padding": null,
            "right": null,
            "top": null,
            "visibility": null,
            "width": null
          }
        },
        "192b7d03ab7a478389ab3350b8868a2b": {
          "model_module": "@jupyter-widgets/controls",
          "model_name": "DescriptionStyleModel",
          "model_module_version": "1.5.0",
          "state": {
            "_model_module": "@jupyter-widgets/controls",
            "_model_module_version": "1.5.0",
            "_model_name": "DescriptionStyleModel",
            "_view_count": null,
            "_view_module": "@jupyter-widgets/base",
            "_view_module_version": "1.2.0",
            "_view_name": "StyleView",
            "description_width": ""
          }
        }
      }
    }
  },
  "nbformat": 4,
  "nbformat_minor": 0
}